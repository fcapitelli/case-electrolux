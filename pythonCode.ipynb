{
 "cells": [
  {
   "cell_type": "code",
   "execution_count": 11,
   "id": "3fbb6b0c-f1c4-4645-aba0-62bf4376963b",
   "metadata": {},
   "outputs": [],
   "source": [
    "from functions import getSIDRATable\n",
    "from functions import getBACENTable\n",
    "from functions import dataframeToPostgreTable"
   ]
  },
  {
   "cell_type": "code",
   "execution_count": 12,
   "id": "28d4bba2-e9b6-4296-8f46-7896f84179b3",
   "metadata": {},
   "outputs": [],
   "source": [
    "# API url list\n",
    "urlList = {'basecnt': 'https://apisidra.ibge.gov.br/values/t/5932/n1/all/v/6561/p/all/c11255/90687,90691,90696,90707/d/v6561%201',\n",
    "           'baseipca': 'https://apisidra.ibge.gov.br/values/t/1737/n1/all/v/2266/p/last%20262/d/v2266%2013',\n",
    "           'basepmc1': 'https://apisidra.ibge.gov.br/values/t/3415/n1/all/v/1195/p/all/c11046/40311/d/v1195%201',\n",
    "           'basepmc2': 'https://apisidra.ibge.gov.br/values/t/3416/n1/all/v/564/p/all/c11046/40311/d/v564%201',\n",
    "           'basepmc3': 'https://apisidra.ibge.gov.br/values/t/3420/n1/all/v/568/p/all/c11046/40311/d/v568%201',\n",
    "           'basepimpfbr': 'https://apisidra.ibge.gov.br/values/t/3653/n1/all/v/3135/p/all/c544/129314,129315,129316/d/v3135%201',\n",
    "           'basepms': 'https://apisidra.ibge.gov.br/values/t/6442/n1/all/v/8676/p/all/c11046/40311/d/v8676%201',\n",
    "           'basebacen': 'https://api.bcb.gov.br/dados/serie/bcdata.sgs.24363/dados?formato=json'\n",
    "          }"
   ]
  },
  {
   "cell_type": "code",
   "execution_count": 13,
   "id": "16fada62-160b-4428-999d-2acf1da36f2c",
   "metadata": {},
   "outputs": [
    {
     "name": "stdout",
     "output_type": "stream",
     "text": [
      "basecnt - Table created with success.\n",
      "baseipca - Table created with success.\n",
      "basepmc1 - Table created with success.\n",
      "basepmc2 - Table created with success.\n",
      "basepmc3 - Table created with success.\n",
      "basepimpfbr - Table created with success.\n",
      "basepms - Table created with success.\n",
      "basebacen - Table created with success.\n"
     ]
    }
   ],
   "source": [
    "# Creating tables in the Postgre database\n",
    "for url in urlList:\n",
    "    user = \"postgres\"\n",
    "    pwd = \"hua16734958*\"\n",
    "    host = \"localhost\"\n",
    "    port = \"5432\"\n",
    "    dbname = \"dbBase\"\n",
    "    tbname = url\n",
    "    schema = \"public\"\n",
    "    if (url == 'basebacen'):\n",
    "        dataframe = getBACENTable(urlList[url])\n",
    "    else:\n",
    "        dataframe = getSIDRATable(urlList[url])\n",
    "    dataframeToPostgreTable(user, pwd, host, port, dbname, tbname, schema, dataframe)"
   ]
  }
 ],
 "metadata": {
  "kernelspec": {
   "display_name": "Python 3 (ipykernel)",
   "language": "python",
   "name": "python3"
  },
  "language_info": {
   "codemirror_mode": {
    "name": "ipython",
    "version": 3
   },
   "file_extension": ".py",
   "mimetype": "text/x-python",
   "name": "python",
   "nbconvert_exporter": "python",
   "pygments_lexer": "ipython3",
   "version": "3.8.8"
  }
 },
 "nbformat": 4,
 "nbformat_minor": 5
}
